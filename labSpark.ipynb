{
 "cells": [
  {
   "cell_type": "code",
   "execution_count": null,
   "metadata": {},
   "outputs": [],
   "source": [
    "#Laboratorio spark casos COVID 19"
   ]
  },
  {
   "cell_type": "code",
   "execution_count": 2,
   "metadata": {},
   "outputs": [
    {
     "name": "stdout",
     "output_type": "stream",
     "text": [
      "Starting Spark application\n"
     ]
    },
    {
     "data": {
      "text/html": [
       "<table>\n",
       "<tr><th>ID</th><th>YARN Application ID</th><th>Kind</th><th>State</th><th>Spark UI</th><th>Driver log</th><th>Current session?</th></tr><tr><td>5</td><td>application_1588536233611_0007</td><td>pyspark</td><td>idle</td><td><a target=\"_blank\" href=\"http://ip-172-31-94-71.ec2.internal:20888/proxy/application_1588536233611_0007/\">Link</a></td><td><a target=\"_blank\" href=\"http://ip-172-31-81-24.ec2.internal:8042/node/containerlogs/container_1588536233611_0007_01_000001/livy\">Link</a></td><td>✔</td></tr></table>"
      ],
      "text/plain": [
       "<IPython.core.display.HTML object>"
      ]
     },
     "metadata": {},
     "output_type": "display_data"
    },
    {
     "data": {
      "application/vnd.jupyter.widget-view+json": {
       "model_id": "",
       "version_major": 2,
       "version_minor": 0
      },
      "text/plain": [
       "FloatProgress(value=0.0, bar_style='info', description='Progress:', layout=Layout(height='25px', width='50%'),…"
      ]
     },
     "metadata": {},
     "output_type": "display_data"
    },
    {
     "name": "stdout",
     "output_type": "stream",
     "text": [
      "SparkSession available as 'spark'.\n"
     ]
    },
    {
     "data": {
      "text/html": [
       "Current session configs: <tt>{'conf': {'spark.pyspark.python': 'python3', 'spark.pyspark.virtualenv.enabled': 'true', 'spark.pyspark.virtualenv.type': 'native', 'spark.pyspark.virtualenv.bin.path': '/usr/bin/virtualenv'}, 'kind': 'pyspark'}</tt><br>"
      ],
      "text/plain": [
       "<IPython.core.display.HTML object>"
      ]
     },
     "metadata": {},
     "output_type": "display_data"
    },
    {
     "data": {
      "text/html": [
       "<table>\n",
       "<tr><th>ID</th><th>YARN Application ID</th><th>Kind</th><th>State</th><th>Spark UI</th><th>Driver log</th><th>Current session?</th></tr><tr><td>3</td><td>application_1588536233611_0005</td><td>pyspark</td><td>idle</td><td><a target=\"_blank\" href=\"http://ip-172-31-94-71.ec2.internal:20888/proxy/application_1588536233611_0005/\">Link</a></td><td><a target=\"_blank\" href=\"http://ip-172-31-88-82.ec2.internal:8042/node/containerlogs/container_1588536233611_0005_01_000001/livy\">Link</a></td><td></td></tr><tr><td>5</td><td>application_1588536233611_0007</td><td>pyspark</td><td>idle</td><td><a target=\"_blank\" href=\"http://ip-172-31-94-71.ec2.internal:20888/proxy/application_1588536233611_0007/\">Link</a></td><td><a target=\"_blank\" href=\"http://ip-172-31-81-24.ec2.internal:8042/node/containerlogs/container_1588536233611_0007_01_000001/livy\">Link</a></td><td>✔</td></tr></table>"
      ],
      "text/plain": [
       "<IPython.core.display.HTML object>"
      ]
     },
     "metadata": {},
     "output_type": "display_data"
    }
   ],
   "source": [
    "%%configure -f\n",
    "{ \"conf\":{\n",
    "\"spark.pyspark.python\": \"python3\",\n",
    "\"spark.pyspark.virtualenv.enabled\": \"true\",\n",
    "\"spark.pyspark.virtualenv.type\":\"native\",\n",
    "\"spark.pyspark.virtualenv.bin.path\":\"/usr/bin/virtualenv\"\n",
    "}}"
   ]
  },
  {
   "cell_type": "code",
   "execution_count": 3,
   "metadata": {},
   "outputs": [
    {
     "data": {
      "application/vnd.jupyter.widget-view+json": {
       "model_id": "12d33dc5570b469c812691d23bf024f3",
       "version_major": 2,
       "version_minor": 0
      },
      "text/plain": [
       "VBox()"
      ]
     },
     "metadata": {},
     "output_type": "display_data"
    },
    {
     "data": {
      "application/vnd.jupyter.widget-view+json": {
       "model_id": "",
       "version_major": 2,
       "version_minor": 0
      },
      "text/plain": [
       "FloatProgress(value=0.0, bar_style='info', description='Progress:', layout=Layout(height='25px', width='50%'),…"
      ]
     },
     "metadata": {},
     "output_type": "display_data"
    }
   ],
   "source": [
    "#import SparkSession\n",
    "from pyspark.sql import SparkSession"
   ]
  },
  {
   "cell_type": "code",
   "execution_count": 4,
   "metadata": {},
   "outputs": [
    {
     "data": {
      "application/vnd.jupyter.widget-view+json": {
       "model_id": "dda9a1b03d0842e6827695630990c47a",
       "version_major": 2,
       "version_minor": 0
      },
      "text/plain": [
       "VBox()"
      ]
     },
     "metadata": {},
     "output_type": "display_data"
    },
    {
     "data": {
      "application/vnd.jupyter.widget-view+json": {
       "model_id": "",
       "version_major": 2,
       "version_minor": 0
      },
      "text/plain": [
       "FloatProgress(value=0.0, bar_style='info', description='Progress:', layout=Layout(height='25px', width='50%'),…"
      ]
     },
     "metadata": {},
     "output_type": "display_data"
    }
   ],
   "source": [
    "#create spar session object\n",
    "spark=SparkSession.builder.appName('lab_spark').getOrCreate()"
   ]
  },
  {
   "cell_type": "code",
   "execution_count": 5,
   "metadata": {},
   "outputs": [
    {
     "data": {
      "application/vnd.jupyter.widget-view+json": {
       "model_id": "ef2a702ebefe408eaabd6caef842a827",
       "version_major": 2,
       "version_minor": 0
      },
      "text/plain": [
       "VBox()"
      ]
     },
     "metadata": {},
     "output_type": "display_data"
    },
    {
     "data": {
      "application/vnd.jupyter.widget-view+json": {
       "model_id": "",
       "version_major": 2,
       "version_minor": 0
      },
      "text/plain": [
       "FloatProgress(value=0.0, bar_style='info', description='Progress:', layout=Layout(height='25px', width='50%'),…"
      ]
     },
     "metadata": {},
     "output_type": "display_data"
    }
   ],
   "source": [
    "# Load csv Dataset \n",
    "df=spark.read.csv('s3://amartinezvdatasets/datasets/onu/datasets/spark/Casos_positivos_de_COVID-19_en_Colombia.csv',inferSchema=True,header=True)"
   ]
  },
  {
   "cell_type": "code",
   "execution_count": 6,
   "metadata": {},
   "outputs": [
    {
     "data": {
      "application/vnd.jupyter.widget-view+json": {
       "model_id": "f883cdf611c947afb97f9e2d399bfc41",
       "version_major": 2,
       "version_minor": 0
      },
      "text/plain": [
       "VBox()"
      ]
     },
     "metadata": {},
     "output_type": "display_data"
    },
    {
     "data": {
      "application/vnd.jupyter.widget-view+json": {
       "model_id": "",
       "version_major": 2,
       "version_minor": 0
      },
      "text/plain": [
       "FloatProgress(value=0.0, bar_style='info', description='Progress:', layout=Layout(height='25px', width='50%'),…"
      ]
     },
     "metadata": {},
     "output_type": "display_data"
    },
    {
     "name": "stdout",
     "output_type": "stream",
     "text": [
      "['ID de caso', 'Fecha de notificación', 'Codigo DIVIPOLA', 'Ciudad de ubicación', 'Departamento o Distrito ', 'atención', 'Edad', 'Sexo', 'Tipo', 'Estado', 'País de procedencia', 'FIS', 'Fecha de muerte', 'Fecha diagnostico', 'Fecha recuperado', 'fecha reporte web']"
     ]
    }
   ],
   "source": [
    "#columns of dataframe\n",
    "df.columns"
   ]
  },
  {
   "cell_type": "code",
   "execution_count": 7,
   "metadata": {},
   "outputs": [
    {
     "data": {
      "application/vnd.jupyter.widget-view+json": {
       "model_id": "63c1c736edc14eabb7a996ff629cab8b",
       "version_major": 2,
       "version_minor": 0
      },
      "text/plain": [
       "VBox()"
      ]
     },
     "metadata": {},
     "output_type": "display_data"
    },
    {
     "data": {
      "application/vnd.jupyter.widget-view+json": {
       "model_id": "",
       "version_major": 2,
       "version_minor": 0
      },
      "text/plain": [
       "FloatProgress(value=0.0, bar_style='info', description='Progress:', layout=Layout(height='25px', width='50%'),…"
      ]
     },
     "metadata": {},
     "output_type": "display_data"
    },
    {
     "name": "stdout",
     "output_type": "stream",
     "text": [
      "(6211, 16)"
     ]
    }
   ],
   "source": [
    "#shape of dataset\n",
    "print((df.count(),len(df.columns)))"
   ]
  },
  {
   "cell_type": "code",
   "execution_count": 8,
   "metadata": {},
   "outputs": [
    {
     "data": {
      "application/vnd.jupyter.widget-view+json": {
       "model_id": "01f1ca190e2b4a778dd5fa784fecc828",
       "version_major": 2,
       "version_minor": 0
      },
      "text/plain": [
       "VBox()"
      ]
     },
     "metadata": {},
     "output_type": "display_data"
    },
    {
     "data": {
      "application/vnd.jupyter.widget-view+json": {
       "model_id": "",
       "version_major": 2,
       "version_minor": 0
      },
      "text/plain": [
       "FloatProgress(value=0.0, bar_style='info', description='Progress:', layout=Layout(height='25px', width='50%'),…"
      ]
     },
     "metadata": {},
     "output_type": "display_data"
    },
    {
     "name": "stdout",
     "output_type": "stream",
     "text": [
      "root\n",
      " |-- ID de caso: integer (nullable = true)\n",
      " |-- Fecha de notificación: timestamp (nullable = true)\n",
      " |-- Codigo DIVIPOLA: integer (nullable = true)\n",
      " |-- Ciudad de ubicación: string (nullable = true)\n",
      " |-- Departamento o Distrito : string (nullable = true)\n",
      " |-- atención: string (nullable = true)\n",
      " |-- Edad: integer (nullable = true)\n",
      " |-- Sexo: string (nullable = true)\n",
      " |-- Tipo: string (nullable = true)\n",
      " |-- Estado: string (nullable = true)\n",
      " |-- País de procedencia: string (nullable = true)\n",
      " |-- FIS: string (nullable = true)\n",
      " |-- Fecha de muerte: string (nullable = true)\n",
      " |-- Fecha diagnostico: timestamp (nullable = true)\n",
      " |-- Fecha recuperado: string (nullable = true)\n",
      " |-- fecha reporte web: timestamp (nullable = true)"
     ]
    }
   ],
   "source": [
    "#printSchema\n",
    "df.printSchema()"
   ]
  },
  {
   "cell_type": "code",
   "execution_count": 9,
   "metadata": {},
   "outputs": [
    {
     "data": {
      "application/vnd.jupyter.widget-view+json": {
       "model_id": "4593020a35ec40909399e621ac0304ec",
       "version_major": 2,
       "version_minor": 0
      },
      "text/plain": [
       "VBox()"
      ]
     },
     "metadata": {},
     "output_type": "display_data"
    },
    {
     "data": {
      "application/vnd.jupyter.widget-view+json": {
       "model_id": "",
       "version_major": 2,
       "version_minor": 0
      },
      "text/plain": [
       "FloatProgress(value=0.0, bar_style='info', description='Progress:', layout=Layout(height='25px', width='50%'),…"
      ]
     },
     "metadata": {},
     "output_type": "display_data"
    },
    {
     "name": "stdout",
     "output_type": "stream",
     "text": [
      "+----------+---------------------+---------------+-------------------+------------------------+----------+----+----+-----------+------+-------------------+--------------------+---------------+-------------------+--------------------+-------------------+\n",
      "|ID de caso|Fecha de notificación|Codigo DIVIPOLA|Ciudad de ubicación|Departamento o Distrito |  atención|Edad|Sexo|       Tipo|Estado|País de procedencia|                 FIS|Fecha de muerte|  Fecha diagnostico|    Fecha recuperado|  fecha reporte web|\n",
      "+----------+---------------------+---------------+-------------------+------------------------+----------+----+----+-----------+------+-------------------+--------------------+---------------+-------------------+--------------------+-------------------+\n",
      "|         1|  2020-03-02 00:00:00|          11001|        Bogotá D.C.|             Bogotá D.C.|Recuperado|  19|   F|  Importado|  Leve|             Italia|2020-02-27T00:00:...|          -   -|2020-03-06 00:00:00|2020-03-13T00:00:...|2020-03-06 00:00:00|\n",
      "|         2|  2020-03-06 00:00:00|          76111|Guadalajara de Buga|         Valle del Cauca|Recuperado|  34|   M|  Importado|  Leve|             España|2020-03-04T00:00:...|          -   -|2020-03-09 00:00:00|2020-03-19T00:00:...|2020-03-09 00:00:00|\n",
      "|         3|  2020-03-07 00:00:00|           5001|           Medellín|               Antioquia|Recuperado|  50|   F|  Importado|  Leve|             España|2020-02-29T00:00:...|          -   -|2020-03-09 00:00:00|2020-03-15T00:00:...|2020-03-09 00:00:00|\n",
      "|         4|  2020-03-09 00:00:00|           5001|           Medellín|               Antioquia|Recuperado|  55|   M|Relacionado|  Leve|           Colombia|2020-03-06T00:00:...|          -   -|2020-03-11 00:00:00|2020-03-26T00:00:...|2020-03-11 00:00:00|\n",
      "|         5|  2020-03-09 00:00:00|           5001|           Medellín|               Antioquia|Recuperado|  25|   M|Relacionado|  Leve|           Colombia|2020-03-08T00:00:...|          -   -|2020-03-11 00:00:00|2020-03-23T00:00:...|2020-03-11 00:00:00|\n",
      "+----------+---------------------+---------------+-------------------+------------------------+----------+----+----+-----------+------+-------------------+--------------------+---------------+-------------------+--------------------+-------------------+\n",
      "only showing top 5 rows"
     ]
    }
   ],
   "source": [
    "# Muestra las priemeras 5 filas\n",
    "df.show(5)"
   ]
  },
  {
   "cell_type": "code",
   "execution_count": 14,
   "metadata": {},
   "outputs": [
    {
     "data": {
      "application/vnd.jupyter.widget-view+json": {
       "model_id": "70a9007d901f49db829d6523acbf81a8",
       "version_major": 2,
       "version_minor": 0
      },
      "text/plain": [
       "VBox()"
      ]
     },
     "metadata": {},
     "output_type": "display_data"
    },
    {
     "data": {
      "application/vnd.jupyter.widget-view+json": {
       "model_id": "",
       "version_major": 2,
       "version_minor": 0
      },
      "text/plain": [
       "FloatProgress(value=0.0, bar_style='info', description='Progress:', layout=Layout(height='25px', width='50%'),…"
      ]
     },
     "metadata": {},
     "output_type": "display_data"
    }
   ],
   "source": [
    "from pyspark.sql.functions import udf"
   ]
  },
  {
   "cell_type": "code",
   "execution_count": 15,
   "metadata": {},
   "outputs": [
    {
     "data": {
      "application/vnd.jupyter.widget-view+json": {
       "model_id": "ba870bea165a422e98f1d4d4fdfdef59",
       "version_major": 2,
       "version_minor": 0
      },
      "text/plain": [
       "VBox()"
      ]
     },
     "metadata": {},
     "output_type": "display_data"
    },
    {
     "data": {
      "application/vnd.jupyter.widget-view+json": {
       "model_id": "",
       "version_major": 2,
       "version_minor": 0
      },
      "text/plain": [
       "FloatProgress(value=0.0, bar_style='info', description='Progress:', layout=Layout(height='25px', width='50%'),…"
      ]
     },
     "metadata": {},
     "output_type": "display_data"
    }
   ],
   "source": [
    "from pyspark.sql.types import StringType,DoubleType,IntegerType"
   ]
  },
  {
   "cell_type": "code",
   "execution_count": 16,
   "metadata": {},
   "outputs": [
    {
     "data": {
      "application/vnd.jupyter.widget-view+json": {
       "model_id": "06c0c4f47ced40a0b6ddd0e42b75d4ed",
       "version_major": 2,
       "version_minor": 0
      },
      "text/plain": [
       "VBox()"
      ]
     },
     "metadata": {},
     "output_type": "display_data"
    },
    {
     "data": {
      "application/vnd.jupyter.widget-view+json": {
       "model_id": "",
       "version_major": 2,
       "version_minor": 0
      },
      "text/plain": [
       "FloatProgress(value=0.0, bar_style='info', description='Progress:', layout=Layout(height='25px', width='50%'),…"
      ]
     },
     "metadata": {},
     "output_type": "display_data"
    }
   ],
   "source": [
    "# Funcion donde se clasifican las edades\n",
    "def age_range(age):\n",
    "    if age <= 14:\n",
    "        return 'Niño'\n",
    "    elif age >=15 and age <=20:\n",
    "        return 'Adolecente'\n",
    "    else:\n",
    "        return 'Adulto'"
   ]
  },
  {
   "cell_type": "code",
   "execution_count": 18,
   "metadata": {},
   "outputs": [
    {
     "data": {
      "application/vnd.jupyter.widget-view+json": {
       "model_id": "520affab00744ee389a7ce8144c6ecaa",
       "version_major": 2,
       "version_minor": 0
      },
      "text/plain": [
       "VBox()"
      ]
     },
     "metadata": {},
     "output_type": "display_data"
    },
    {
     "data": {
      "application/vnd.jupyter.widget-view+json": {
       "model_id": "",
       "version_major": 2,
       "version_minor": 0
      },
      "text/plain": [
       "FloatProgress(value=0.0, bar_style='info', description='Progress:', layout=Layout(height='25px', width='50%'),…"
      ]
     },
     "metadata": {},
     "output_type": "display_data"
    },
    {
     "name": "stdout",
     "output_type": "stream",
     "text": [
      "+----------+---------------------+---------------+-------------------+------------------------+----------+----+----+-----------+------+-------------------------+-----------------------+---------------+-------------------+-----------------------+-------------------+----------------+\n",
      "|ID de caso|Fecha de notificación|Codigo DIVIPOLA|Ciudad de ubicación|Departamento o Distrito |atención  |Edad|Sexo|Tipo       |Estado|País de procedencia      |FIS                    |Fecha de muerte|Fecha diagnostico  |Fecha recuperado       |fecha reporte web  |Categoria edades|\n",
      "+----------+---------------------+---------------+-------------------+------------------------+----------+----+----+-----------+------+-------------------------+-----------------------+---------------+-------------------+-----------------------+-------------------+----------------+\n",
      "|1         |2020-03-02 00:00:00  |11001          |Bogotá D.C.        |Bogotá D.C.             |Recuperado|19  |F   |Importado  |Leve  |Italia                   |2020-02-27T00:00:00.000|-   -          |2020-03-06 00:00:00|2020-03-13T00:00:00.000|2020-03-06 00:00:00|Adolecente      |\n",
      "|2         |2020-03-06 00:00:00  |76111          |Guadalajara de Buga|Valle del Cauca         |Recuperado|34  |M   |Importado  |Leve  |España                   |2020-03-04T00:00:00.000|-   -          |2020-03-09 00:00:00|2020-03-19T00:00:00.000|2020-03-09 00:00:00|Adulto          |\n",
      "|3         |2020-03-07 00:00:00  |5001           |Medellín           |Antioquia               |Recuperado|50  |F   |Importado  |Leve  |España                   |2020-02-29T00:00:00.000|-   -          |2020-03-09 00:00:00|2020-03-15T00:00:00.000|2020-03-09 00:00:00|Adulto          |\n",
      "|4         |2020-03-09 00:00:00  |5001           |Medellín           |Antioquia               |Recuperado|55  |M   |Relacionado|Leve  |Colombia                 |2020-03-06T00:00:00.000|-   -          |2020-03-11 00:00:00|2020-03-26T00:00:00.000|2020-03-11 00:00:00|Adulto          |\n",
      "|5         |2020-03-09 00:00:00  |5001           |Medellín           |Antioquia               |Recuperado|25  |M   |Relacionado|Leve  |Colombia                 |2020-03-08T00:00:00.000|-   -          |2020-03-11 00:00:00|2020-03-23T00:00:00.000|2020-03-11 00:00:00|Adulto          |\n",
      "|6         |2020-03-10 00:00:00  |5360           |Itagüí             |Antioquia               |Recuperado|27  |F   |Relacionado|Leve  |Colombia                 |2020-03-06T00:00:00.000|-   -          |2020-03-11 00:00:00|2020-03-26T00:00:00.000|2020-03-11 00:00:00|Adulto          |\n",
      "|7         |2020-03-08 00:00:00  |13001          |Cartagena de Indias|Cartagena D.T. y C.     |Recuperado|85  |F   |Importado  |Leve  |Estados Unidos de América|2020-03-02T00:00:00.000|-   -          |2020-03-11 00:00:00|2020-03-17T00:00:00.000|2020-03-11 00:00:00|Adulto          |\n",
      "|8         |2020-03-09 00:00:00  |11001          |Bogotá D.C.        |Bogotá D.C.             |Recuperado|22  |F   |Importado  |Leve  |España                   |2020-03-06T00:00:00.000|-   -          |2020-03-11 00:00:00|2020-03-21T00:00:00.000|2020-03-11 00:00:00|Adulto          |\n",
      "|9         |2020-03-08 00:00:00  |11001          |Bogotá D.C.        |Bogotá D.C.             |Recuperado|28  |F   |Importado  |Leve  |España                   |2020-03-07T00:00:00.000|-   -          |2020-03-11 00:00:00|2020-03-23T00:00:00.000|2020-03-11 00:00:00|Adulto          |\n",
      "|10        |2020-03-12 00:00:00  |11001          |Bogotá D.C.        |Bogotá D.C.             |Recuperado|36  |F   |Importado  |Leve  |España                   |2020-03-06T00:00:00.000|-   -          |2020-03-12 00:00:00|2020-03-21T00:00:00.000|2020-03-12 00:00:00|Adulto          |\n",
      "+----------+---------------------+---------------+-------------------+------------------------+----------+----+----+-----------+------+-------------------------+-----------------------+---------------+-------------------+-----------------------+-------------------+----------------+\n",
      "only showing top 10 rows"
     ]
    }
   ],
   "source": [
    "# Agrega la columna 'categoria edades' donde se claseifican las edades en niño, adolecente, adulto\n",
    "age_udf= udf(age_range, StringType())\n",
    "df.withColumn('Categoria edades', age_udf(df['Edad'])).show(10, False)"
   ]
  },
  {
   "cell_type": "code",
   "execution_count": 19,
   "metadata": {},
   "outputs": [
    {
     "data": {
      "application/vnd.jupyter.widget-view+json": {
       "model_id": "52475848b6f94ad2987e82b52c1927b9",
       "version_major": 2,
       "version_minor": 0
      },
      "text/plain": [
       "VBox()"
      ]
     },
     "metadata": {},
     "output_type": "display_data"
    },
    {
     "data": {
      "application/vnd.jupyter.widget-view+json": {
       "model_id": "",
       "version_major": 2,
       "version_minor": 0
      },
      "text/plain": [
       "FloatProgress(value=0.0, bar_style='info', description='Progress:', layout=Layout(height='25px', width='50%'),…"
      ]
     },
     "metadata": {},
     "output_type": "display_data"
    }
   ],
   "source": [
    "# Función para conocer si es capital de algun mucicipio\n",
    "def city(city):\n",
    "    if city == 'Bogotá D.C.' or city== 'Medellín' or city == 'Cartagena de Indias':\n",
    "        return 'Capital'\n",
    "    else:\n",
    "        return 'Municipio'"
   ]
  },
  {
   "cell_type": "code",
   "execution_count": 20,
   "metadata": {},
   "outputs": [
    {
     "data": {
      "application/vnd.jupyter.widget-view+json": {
       "model_id": "b28759f0e2af4b4784978e503264cc4a",
       "version_major": 2,
       "version_minor": 0
      },
      "text/plain": [
       "VBox()"
      ]
     },
     "metadata": {},
     "output_type": "display_data"
    },
    {
     "data": {
      "application/vnd.jupyter.widget-view+json": {
       "model_id": "",
       "version_major": 2,
       "version_minor": 0
      },
      "text/plain": [
       "FloatProgress(value=0.0, bar_style='info', description='Progress:', layout=Layout(height='25px', width='50%'),…"
      ]
     },
     "metadata": {},
     "output_type": "display_data"
    },
    {
     "name": "stdout",
     "output_type": "stream",
     "text": [
      "+----------+---------------------+---------------+-------------------+------------------------+----------+----+----+-----------+------+-------------------+-----------------------+---------------+-------------------+-----------------------+-------------------+--------------+\n",
      "|ID de caso|Fecha de notificación|Codigo DIVIPOLA|Ciudad de ubicación|Departamento o Distrito |atención  |Edad|Sexo|Tipo       |Estado|País de procedencia|FIS                    |Fecha de muerte|Fecha diagnostico  |Fecha recuperado       |fecha reporte web  |Tipo de ciudad|\n",
      "+----------+---------------------+---------------+-------------------+------------------------+----------+----+----+-----------+------+-------------------+-----------------------+---------------+-------------------+-----------------------+-------------------+--------------+\n",
      "|1         |2020-03-02 00:00:00  |11001          |Bogotá D.C.        |Bogotá D.C.             |Recuperado|19  |F   |Importado  |Leve  |Italia             |2020-02-27T00:00:00.000|-   -          |2020-03-06 00:00:00|2020-03-13T00:00:00.000|2020-03-06 00:00:00|Capital       |\n",
      "|2         |2020-03-06 00:00:00  |76111          |Guadalajara de Buga|Valle del Cauca         |Recuperado|34  |M   |Importado  |Leve  |España             |2020-03-04T00:00:00.000|-   -          |2020-03-09 00:00:00|2020-03-19T00:00:00.000|2020-03-09 00:00:00|Municipio     |\n",
      "|3         |2020-03-07 00:00:00  |5001           |Medellín           |Antioquia               |Recuperado|50  |F   |Importado  |Leve  |España             |2020-02-29T00:00:00.000|-   -          |2020-03-09 00:00:00|2020-03-15T00:00:00.000|2020-03-09 00:00:00|Capital       |\n",
      "|4         |2020-03-09 00:00:00  |5001           |Medellín           |Antioquia               |Recuperado|55  |M   |Relacionado|Leve  |Colombia           |2020-03-06T00:00:00.000|-   -          |2020-03-11 00:00:00|2020-03-26T00:00:00.000|2020-03-11 00:00:00|Capital       |\n",
      "|5         |2020-03-09 00:00:00  |5001           |Medellín           |Antioquia               |Recuperado|25  |M   |Relacionado|Leve  |Colombia           |2020-03-08T00:00:00.000|-   -          |2020-03-11 00:00:00|2020-03-23T00:00:00.000|2020-03-11 00:00:00|Capital       |\n",
      "+----------+---------------------+---------------+-------------------+------------------------+----------+----+----+-----------+------+-------------------+-----------------------+---------------+-------------------+-----------------------+-------------------+--------------+\n",
      "only showing top 5 rows"
     ]
    }
   ],
   "source": [
    "# Agrega la columna 'tipo ciudadad' donde se pone si la ciudad es una capital de departamento o un municipio\n",
    "city_udf= udf(city, StringType())\n",
    "df.withColumn('Tipo de ciudad', city_udf(df['Ciudad de ubicación'])).show(5, False)"
   ]
  },
  {
   "cell_type": "code",
   "execution_count": 25,
   "metadata": {},
   "outputs": [
    {
     "data": {
      "application/vnd.jupyter.widget-view+json": {
       "model_id": "aa71868d8acb4ce7a2584893afe8c22a",
       "version_major": 2,
       "version_minor": 0
      },
      "text/plain": [
       "VBox()"
      ]
     },
     "metadata": {},
     "output_type": "display_data"
    },
    {
     "data": {
      "application/vnd.jupyter.widget-view+json": {
       "model_id": "",
       "version_major": 2,
       "version_minor": 0
      },
      "text/plain": [
       "FloatProgress(value=0.0, bar_style='info', description='Progress:', layout=Layout(height='25px', width='50%'),…"
      ]
     },
     "metadata": {},
     "output_type": "display_data"
    }
   ],
   "source": [
    "# Elimina las respectivas columnas\n",
    "df_new=df.drop('Codigo DIVIPOLA', 'Tipo', 'FIS', 'fecha reporte web')"
   ]
  },
  {
   "cell_type": "code",
   "execution_count": 26,
   "metadata": {},
   "outputs": [
    {
     "data": {
      "application/vnd.jupyter.widget-view+json": {
       "model_id": "d2661d72053648dc9ea13b85eb6dcfaf",
       "version_major": 2,
       "version_minor": 0
      },
      "text/plain": [
       "VBox()"
      ]
     },
     "metadata": {},
     "output_type": "display_data"
    },
    {
     "data": {
      "application/vnd.jupyter.widget-view+json": {
       "model_id": "",
       "version_major": 2,
       "version_minor": 0
      },
      "text/plain": [
       "FloatProgress(value=0.0, bar_style='info', description='Progress:', layout=Layout(height='25px', width='50%'),…"
      ]
     },
     "metadata": {},
     "output_type": "display_data"
    },
    {
     "name": "stdout",
     "output_type": "stream",
     "text": [
      "+----------+---------------------+-------------------+------------------------+----------+----+----+------+-------------------+---------------+-------------------+--------------------+\n",
      "|ID de caso|Fecha de notificación|Ciudad de ubicación|Departamento o Distrito |  atención|Edad|Sexo|Estado|País de procedencia|Fecha de muerte|  Fecha diagnostico|    Fecha recuperado|\n",
      "+----------+---------------------+-------------------+------------------------+----------+----+----+------+-------------------+---------------+-------------------+--------------------+\n",
      "|         1|  2020-03-02 00:00:00|        Bogotá D.C.|             Bogotá D.C.|Recuperado|  19|   F|  Leve|             Italia|          -   -|2020-03-06 00:00:00|2020-03-13T00:00:...|\n",
      "|         2|  2020-03-06 00:00:00|Guadalajara de Buga|         Valle del Cauca|Recuperado|  34|   M|  Leve|             España|          -   -|2020-03-09 00:00:00|2020-03-19T00:00:...|\n",
      "|         3|  2020-03-07 00:00:00|           Medellín|               Antioquia|Recuperado|  50|   F|  Leve|             España|          -   -|2020-03-09 00:00:00|2020-03-15T00:00:...|\n",
      "|         4|  2020-03-09 00:00:00|           Medellín|               Antioquia|Recuperado|  55|   M|  Leve|           Colombia|          -   -|2020-03-11 00:00:00|2020-03-26T00:00:...|\n",
      "|         5|  2020-03-09 00:00:00|           Medellín|               Antioquia|Recuperado|  25|   M|  Leve|           Colombia|          -   -|2020-03-11 00:00:00|2020-03-23T00:00:...|\n",
      "+----------+---------------------+-------------------+------------------------+----------+----+----+------+-------------------+---------------+-------------------+--------------------+\n",
      "only showing top 5 rows"
     ]
    }
   ],
   "source": [
    "# Mostrar cinco filas sin las columnas que fueron eliminadas\n",
    "df_new.show(5)"
   ]
  },
  {
   "cell_type": "code",
   "execution_count": 27,
   "metadata": {},
   "outputs": [
    {
     "data": {
      "application/vnd.jupyter.widget-view+json": {
       "model_id": "512cdd4666ef4b308172279deb91acbd",
       "version_major": 2,
       "version_minor": 0
      },
      "text/plain": [
       "VBox()"
      ]
     },
     "metadata": {},
     "output_type": "display_data"
    },
    {
     "data": {
      "application/vnd.jupyter.widget-view+json": {
       "model_id": "",
       "version_major": 2,
       "version_minor": 0
      },
      "text/plain": [
       "FloatProgress(value=0.0, bar_style='info', description='Progress:', layout=Layout(height='25px', width='50%'),…"
      ]
     },
     "metadata": {},
     "output_type": "display_data"
    },
    {
     "name": "stdout",
     "output_type": "stream",
     "text": [
      "+----------+---------------------+---------------+-------------------+------------------------+----------+----+----+---------+------+--------------------+--------------------+---------------+-------------------+--------------------+-------------------+\n",
      "|ID de caso|Fecha de notificación|Codigo DIVIPOLA|Ciudad de ubicación|Departamento o Distrito |  atención|Edad|Sexo|     Tipo|Estado| País de procedencia|                 FIS|Fecha de muerte|  Fecha diagnostico|    Fecha recuperado|  fecha reporte web|\n",
      "+----------+---------------------+---------------+-------------------+------------------------+----------+----+----+---------+------+--------------------+--------------------+---------------+-------------------+--------------------+-------------------+\n",
      "|         1|  2020-03-02 00:00:00|          11001|        Bogotá D.C.|             Bogotá D.C.|Recuperado|  19|   F|Importado|  Leve|              Italia|2020-02-27T00:00:...|          -   -|2020-03-06 00:00:00|2020-03-13T00:00:...|2020-03-06 00:00:00|\n",
      "|         2|  2020-03-06 00:00:00|          76111|Guadalajara de Buga|         Valle del Cauca|Recuperado|  34|   M|Importado|  Leve|              España|2020-03-04T00:00:...|          -   -|2020-03-09 00:00:00|2020-03-19T00:00:...|2020-03-09 00:00:00|\n",
      "|         3|  2020-03-07 00:00:00|           5001|           Medellín|               Antioquia|Recuperado|  50|   F|Importado|  Leve|              España|2020-02-29T00:00:...|          -   -|2020-03-09 00:00:00|2020-03-15T00:00:...|2020-03-09 00:00:00|\n",
      "|         7|  2020-03-08 00:00:00|          13001|Cartagena de Indias|     Cartagena D.T. y C.|Recuperado|  85|   F|Importado|  Leve|Estados Unidos de...|2020-03-02T00:00:...|          -   -|2020-03-11 00:00:00|2020-03-17T00:00:...|2020-03-11 00:00:00|\n",
      "|         8|  2020-03-09 00:00:00|          11001|        Bogotá D.C.|             Bogotá D.C.|Recuperado|  22|   F|Importado|  Leve|              España|2020-03-06T00:00:...|          -   -|2020-03-11 00:00:00|2020-03-21T00:00:...|2020-03-11 00:00:00|\n",
      "+----------+---------------------+---------------+-------------------+------------------------+----------+----+----+---------+------+--------------------+--------------------+---------------+-------------------+--------------------+-------------------+\n",
      "only showing top 5 rows"
     ]
    }
   ],
   "source": [
    "#¿Cuales son los casos importados?\n",
    "\n",
    "df.filter(df['Tipo']=='Importado').show(5)"
   ]
  },
  {
   "cell_type": "code",
   "execution_count": 28,
   "metadata": {},
   "outputs": [
    {
     "data": {
      "application/vnd.jupyter.widget-view+json": {
       "model_id": "79400541e13b4e5bab5e73b809fffe37",
       "version_major": 2,
       "version_minor": 0
      },
      "text/plain": [
       "VBox()"
      ]
     },
     "metadata": {},
     "output_type": "display_data"
    },
    {
     "data": {
      "application/vnd.jupyter.widget-view+json": {
       "model_id": "",
       "version_major": 2,
       "version_minor": 0
      },
      "text/plain": [
       "FloatProgress(value=0.0, bar_style='info', description='Progress:', layout=Layout(height='25px', width='50%'),…"
      ]
     },
     "metadata": {},
     "output_type": "display_data"
    },
    {
     "name": "stdout",
     "output_type": "stream",
     "text": [
      "+----------+---------------------+---------------+-------------------+------------------------+----------+----+----+---------+------+-------------------+--------------------+---------------+-------------------+--------------------+-------------------+\n",
      "|ID de caso|Fecha de notificación|Codigo DIVIPOLA|Ciudad de ubicación|Departamento o Distrito |  atención|Edad|Sexo|     Tipo|Estado|País de procedencia|                 FIS|Fecha de muerte|  Fecha diagnostico|    Fecha recuperado|  fecha reporte web|\n",
      "+----------+---------------------+---------------+-------------------+------------------------+----------+----+----+---------+------+-------------------+--------------------+---------------+-------------------+--------------------+-------------------+\n",
      "|         1|  2020-03-02 00:00:00|          11001|        Bogotá D.C.|             Bogotá D.C.|Recuperado|  19|   F|Importado|  Leve|             Italia|2020-02-27T00:00:...|          -   -|2020-03-06 00:00:00|2020-03-13T00:00:...|2020-03-06 00:00:00|\n",
      "|         8|  2020-03-09 00:00:00|          11001|        Bogotá D.C.|             Bogotá D.C.|Recuperado|  22|   F|Importado|  Leve|             España|2020-03-06T00:00:...|          -   -|2020-03-11 00:00:00|2020-03-21T00:00:...|2020-03-11 00:00:00|\n",
      "|         9|  2020-03-08 00:00:00|          11001|        Bogotá D.C.|             Bogotá D.C.|Recuperado|  28|   F|Importado|  Leve|             España|2020-03-07T00:00:...|          -   -|2020-03-11 00:00:00|2020-03-23T00:00:...|2020-03-11 00:00:00|\n",
      "|        10|  2020-03-12 00:00:00|          11001|        Bogotá D.C.|             Bogotá D.C.|Recuperado|  36|   F|Importado|  Leve|             España|2020-03-06T00:00:...|          -   -|2020-03-12 00:00:00|2020-03-21T00:00:...|2020-03-12 00:00:00|\n",
      "|        11|  2020-03-11 00:00:00|          11001|        Bogotá D.C.|             Bogotá D.C.|Recuperado|  42|   F|Importado|  Leve|             España|2020-03-06T00:00:...|          -   -|2020-03-12 00:00:00|2020-03-31T00:00:...|2020-03-12 00:00:00|\n",
      "+----------+---------------------+---------------+-------------------+------------------------+----------+----+----+---------+------+-------------------+--------------------+---------------+-------------------+--------------------+-------------------+\n",
      "only showing top 5 rows"
     ]
    }
   ],
   "source": [
    "#¿Cuales son los casos importados en la ciudad de Bogotá?\n",
    "\n",
    "df.filter((df['Tipo']=='Importado')&(df['Ciudad de ubicación'] =='Bogotá D.C.')).show(5)"
   ]
  },
  {
   "cell_type": "code",
   "execution_count": 32,
   "metadata": {},
   "outputs": [
    {
     "data": {
      "application/vnd.jupyter.widget-view+json": {
       "model_id": "e7993334d89a4424aa895e09b931d6a3",
       "version_major": 2,
       "version_minor": 0
      },
      "text/plain": [
       "VBox()"
      ]
     },
     "metadata": {},
     "output_type": "display_data"
    },
    {
     "data": {
      "application/vnd.jupyter.widget-view+json": {
       "model_id": "",
       "version_major": 2,
       "version_minor": 0
      },
      "text/plain": [
       "FloatProgress(value=0.0, bar_style='info', description='Progress:', layout=Layout(height='25px', width='50%'),…"
      ]
     },
     "metadata": {},
     "output_type": "display_data"
    },
    {
     "name": "stdout",
     "output_type": "stream",
     "text": [
      "+----------+-------------------+\n",
      "|ID de caso|Ciudad de ubicación|\n",
      "+----------+-------------------+\n",
      "|         1|        Bogotá D.C.|\n",
      "|         2|Guadalajara de Buga|\n",
      "|         3|           Medellín|\n",
      "|         4|           Medellín|\n",
      "|         5|           Medellín|\n",
      "|         6|             Itagüí|\n",
      "|         7|Cartagena de Indias|\n",
      "|         8|        Bogotá D.C.|\n",
      "|         9|        Bogotá D.C.|\n",
      "|        10|        Bogotá D.C.|\n",
      "+----------+-------------------+\n",
      "only showing top 10 rows"
     ]
    }
   ],
   "source": [
    "#¿Cuales son los casos que se han recuperado y en que ciudades?\n",
    "df.filter(df['atención']=='Recuperado').select('ID de caso','Ciudad de ubicación').show(10)"
   ]
  },
  {
   "cell_type": "code",
   "execution_count": 37,
   "metadata": {},
   "outputs": [
    {
     "data": {
      "application/vnd.jupyter.widget-view+json": {
       "model_id": "a68b708575ad4169a2408ed0f6b552db",
       "version_major": 2,
       "version_minor": 0
      },
      "text/plain": [
       "VBox()"
      ]
     },
     "metadata": {},
     "output_type": "display_data"
    },
    {
     "data": {
      "application/vnd.jupyter.widget-view+json": {
       "model_id": "",
       "version_major": 2,
       "version_minor": 0
      },
      "text/plain": [
       "FloatProgress(value=0.0, bar_style='info', description='Progress:', layout=Layout(height='25px', width='50%'),…"
      ]
     },
     "metadata": {},
     "output_type": "display_data"
    },
    {
     "name": "stdout",
     "output_type": "stream",
     "text": [
      "+-------------------+-----+\n",
      "|Ciudad de ubicación|count|\n",
      "+-------------------+-----+\n",
      "|Bogotá D.C.        |2543 |\n",
      "|Cali               |713  |\n",
      "|Villavicencio      |344  |\n",
      "|Medellín           |305  |\n",
      "|Cartagena de Indias|246  |\n",
      "|Barranquilla       |141  |\n",
      "|Santa Marta        |139  |\n",
      "|Pereira            |132  |\n",
      "|Leticia            |104  |\n",
      "|Neiva              |82   |\n",
      "+-------------------+-----+\n",
      "only showing top 10 rows"
     ]
    }
   ],
   "source": [
    "# Numero de casos por ciudad ordenados de forma descendentes\n",
    "df.groupBy('Ciudad de ubicación').count().orderBy('count',ascending=False).show(10,False)"
   ]
  },
  {
   "cell_type": "code",
   "execution_count": 38,
   "metadata": {},
   "outputs": [
    {
     "data": {
      "application/vnd.jupyter.widget-view+json": {
       "model_id": "4eaed9bd009348c7b487ab75c2d123a0",
       "version_major": 2,
       "version_minor": 0
      },
      "text/plain": [
       "VBox()"
      ]
     },
     "metadata": {},
     "output_type": "display_data"
    },
    {
     "data": {
      "application/vnd.jupyter.widget-view+json": {
       "model_id": "",
       "version_major": 2,
       "version_minor": 0
      },
      "text/plain": [
       "FloatProgress(value=0.0, bar_style='info', description='Progress:', layout=Layout(height='25px', width='50%'),…"
      ]
     },
     "metadata": {},
     "output_type": "display_data"
    },
    {
     "name": "stdout",
     "output_type": "stream",
     "text": [
      "+----+-----+\n",
      "|Sexo|count|\n",
      "+----+-----+\n",
      "|   F| 2917|\n",
      "|   m|    1|\n",
      "|   f|    3|\n",
      "|   M| 3290|\n",
      "+----+-----+"
     ]
    }
   ],
   "source": [
    "# Numero de casos por sexo\n",
    "df.groupBy('Sexo').count().show()"
   ]
  },
  {
   "cell_type": "code",
   "execution_count": 43,
   "metadata": {},
   "outputs": [
    {
     "data": {
      "application/vnd.jupyter.widget-view+json": {
       "model_id": "bf4a83bf0a6d4ffcbe0507a0c860325f",
       "version_major": 2,
       "version_minor": 0
      },
      "text/plain": [
       "VBox()"
      ]
     },
     "metadata": {},
     "output_type": "display_data"
    },
    {
     "data": {
      "application/vnd.jupyter.widget-view+json": {
       "model_id": "",
       "version_major": 2,
       "version_minor": 0
      },
      "text/plain": [
       "FloatProgress(value=0.0, bar_style='info', description='Progress:', layout=Layout(height='25px', width='50%'),…"
      ]
     },
     "metadata": {},
     "output_type": "display_data"
    },
    {
     "name": "stdout",
     "output_type": "stream",
     "text": [
      "+---------+-------------------+-----+\n",
      "|   Estado|Ciudad de ubicación|count|\n",
      "+---------+-------------------+-----+\n",
      "|     Leve|           Sogamoso|    1|\n",
      "| Moderado|           Sogamoso|    2|\n",
      "| Moderado|       Dosquebradas|    1|\n",
      "|    Grave|              Neiva|    2|\n",
      "| Moderado|             Suesca|    2|\n",
      "|     Leve|      Villavicencio|  334|\n",
      "|     Leve|              Neiva|   73|\n",
      "|     Leve|            Palmira|   42|\n",
      "|     Leve|         San Andrés|    6|\n",
      "|    Grave|            Ipiales|    3|\n",
      "|Fallecido|            Miranda|    1|\n",
      "| Moderado|             Itagüí|    1|\n",
      "|     Leve|          La Dorada|   30|\n",
      "|     Leve|          Contadero|    1|\n",
      "|    Grave|             Ibagué|    2|\n",
      "| Moderado|           El Tambo|    1|\n",
      "|     Leve|           Montería|   16|\n",
      "|     Leve|          Angostura|    1|\n",
      "|     Leve|               Chía|   28|\n",
      "|     Leve|             Calima|    1|\n",
      "+---------+-------------------+-----+\n",
      "only showing top 20 rows"
     ]
    }
   ],
   "source": [
    "# Numero de personas en cada estado por ciudad\n",
    "df.groupBy('Estado', 'Ciudad de ubicación').count().show()"
   ]
  },
  {
   "cell_type": "code",
   "execution_count": 50,
   "metadata": {},
   "outputs": [
    {
     "data": {
      "application/vnd.jupyter.widget-view+json": {
       "model_id": "e2fbd44c9ba3405f8fd5291f59c99fce",
       "version_major": 2,
       "version_minor": 0
      },
      "text/plain": [
       "VBox()"
      ]
     },
     "metadata": {},
     "output_type": "display_data"
    },
    {
     "data": {
      "application/vnd.jupyter.widget-view+json": {
       "model_id": "",
       "version_major": 2,
       "version_minor": 0
      },
      "text/plain": [
       "FloatProgress(value=0.0, bar_style='info', description='Progress:', layout=Layout(height='25px', width='50%'),…"
      ]
     },
     "metadata": {},
     "output_type": "display_data"
    },
    {
     "name": "stdout",
     "output_type": "stream",
     "text": [
      "+-------------------+-----+\n",
      "|Ciudad de ubicación|count|\n",
      "+-------------------+-----+\n",
      "|           Montería|    1|\n",
      "|           El Dovio|    1|\n",
      "|       Cundinamarca|    1|\n",
      "|   Barranco de Loba|    1|\n",
      "|              Tuluá|    1|\n",
      "|              Pasto|    2|\n",
      "|            Ginebra|    1|\n",
      "|              Neiva|    4|\n",
      "|             Ibagué|    1|\n",
      "|    Barrancabermeja|    1|\n",
      "|        Bucaramanga|    1|\n",
      "|        Puebloviejo|    2|\n",
      "|     Ciénaga de Oro|    1|\n",
      "|              Bello|    1|\n",
      "|          La Dorada|    2|\n",
      "+-------------------+-----+\n",
      "only showing top 15 rows"
     ]
    }
   ],
   "source": [
    "# Número de fallecidos hay por ciudad\n",
    "\n",
    "df.filter(df['Estado']=='Fallecido').groupBy('Ciudad de ubicación').count().show(15)"
   ]
  },
  {
   "cell_type": "code",
   "execution_count": 53,
   "metadata": {},
   "outputs": [
    {
     "data": {
      "application/vnd.jupyter.widget-view+json": {
       "model_id": "b686e18178474d9f94753b6110e3db05",
       "version_major": 2,
       "version_minor": 0
      },
      "text/plain": [
       "VBox()"
      ]
     },
     "metadata": {},
     "output_type": "display_data"
    },
    {
     "data": {
      "application/vnd.jupyter.widget-view+json": {
       "model_id": "",
       "version_major": 2,
       "version_minor": 0
      },
      "text/plain": [
       "FloatProgress(value=0.0, bar_style='info', description='Progress:', layout=Layout(height='25px', width='50%'),…"
      ]
     },
     "metadata": {},
     "output_type": "display_data"
    }
   ],
   "source": [
    "#target directory \n",
    "write_uri='s3://amartinezvdatasets/dfCovid_csv'"
   ]
  },
  {
   "cell_type": "code",
   "execution_count": 54,
   "metadata": {},
   "outputs": [
    {
     "data": {
      "application/vnd.jupyter.widget-view+json": {
       "model_id": "1eca1a50c5f844b3b109aee6ed8e3c2c",
       "version_major": 2,
       "version_minor": 0
      },
      "text/plain": [
       "VBox()"
      ]
     },
     "metadata": {},
     "output_type": "display_data"
    },
    {
     "data": {
      "application/vnd.jupyter.widget-view+json": {
       "model_id": "",
       "version_major": 2,
       "version_minor": 0
      },
      "text/plain": [
       "FloatProgress(value=0.0, bar_style='info', description='Progress:', layout=Layout(height='25px', width='50%'),…"
      ]
     },
     "metadata": {},
     "output_type": "display_data"
    }
   ],
   "source": [
    "#save the dataframe as single csv \n",
    "df.coalesce(1).write.format(\"csv\").option(\"header\",\"true\").save(write_uri)"
   ]
  },
  {
   "cell_type": "code",
   "execution_count": null,
   "metadata": {},
   "outputs": [],
   "source": []
  }
 ],
 "metadata": {
  "kernelspec": {
   "display_name": "PySpark",
   "language": "",
   "name": "pysparkkernel"
  },
  "language_info": {
   "codemirror_mode": {
    "name": "python",
    "version": 2
   },
   "mimetype": "text/x-python",
   "name": "pyspark",
   "pygments_lexer": "python2"
  }
 },
 "nbformat": 4,
 "nbformat_minor": 4
}
